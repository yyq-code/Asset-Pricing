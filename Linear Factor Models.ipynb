{
 "cells": [
  {
   "cell_type": "markdown",
   "metadata": {},
   "source": [
    "## Linear Factor Models"
   ]
  },
  {
   "cell_type": "markdown",
   "metadata": {},
   "source": [
    "Linear Factor Models\n",
    "\n",
    "Market_Portfolio.xlsx contains monthly nominal (net) returns for the market portfolio, expressed as a percentage. These returns cover the ten-year period from Jan 2004 through Dec 2013.\n",
    "\n",
    "Assume that the risk-free rate is 0.13% per month. Regress the monthly excess returns for each of the ten industry portfolios on the monthly excess returns for the market portfolio, so as to estimate the intercept coefficient (α) and slope coefficient (β) for each of the ten industry portfolios. Create a table showing the intercept and slope coefficients for the ten industry portfolios. Briefly explain the economic significance of the intercept and slope coefficients.\n",
    "\n",
    "Calculate the mean monthly return for each of the ten industry portfolios, as well as the market portfolio. Regress the mean monthly returns of the ten industry portfolios and the market portfolio on the corresponding β (by construction, the market portfolio has β of one). This will give you the slope and intercept coefficients for the SML. (Warning: the results may be very different from what you would expect!)\n",
    "\n",
    "Using the estimated slope and intercept coefficients, plot the SML in the range of β from zero to two on the horizontal axis. Also plot the positions of the ten industry portfolios and the market portfolio. (You are NOT required to label the individual portfolios.) Briefly explain the economic significance of the SML."
   ]
  },
  {
   "cell_type": "code",
   "execution_count": 1,
   "metadata": {},
   "outputs": [],
   "source": [
    "import numpy as np\n",
    "import pandas as pd\n",
    "import matplotlib.pyplot as plt"
   ]
  },
  {
   "cell_type": "code",
   "execution_count": 2,
   "metadata": {},
   "outputs": [],
   "source": [
    "from sklearn.linear_model import LinearRegression"
   ]
  },
  {
   "cell_type": "markdown",
   "metadata": {},
   "source": [
    "Market_Portfolio.xlsx contains monthly nominal (net) returns for the market portfolio, expressed as a percentage. These returns cover the ten-year period from Jan 2004 through Dec 2013.\n",
    "\n",
    "Assume that the risk-free rate is 0.13% per month. "
   ]
  },
  {
   "cell_type": "code",
   "execution_count": 3,
   "metadata": {},
   "outputs": [],
   "source": [
    "data=pd.read_excel(r'Industry_Portfolios.xlsx',index_col=0, parse_dates=True)"
   ]
  },
  {
   "cell_type": "code",
   "execution_count": 4,
   "metadata": {},
   "outputs": [],
   "source": [
    "data2=pd.read_excel(r'Market_Portfolio.xlsx',index_col=0,parse_dates=True)\n",
    "data2['Rf']=0.13"
   ]
  },
  {
   "cell_type": "markdown",
   "metadata": {},
   "source": [
    "Regress the monthly excess returns for each of the ten industry portfolios on the monthly excess returns for the market portfolio, so as to estimate the intercept coefficient (α) and slope coefficient (β) for each of the ten industry portfolios. "
   ]
  },
  {
   "cell_type": "markdown",
   "metadata": {},
   "source": [
    "E[Ri-Rf]=alpha +beta*[Rm-Rf]"
   ]
  },
  {
   "cell_type": "markdown",
   "metadata": {},
   "source": [
    "alpha:Jenson Alpha"
   ]
  },
  {
   "cell_type": "code",
   "execution_count": 5,
   "metadata": {
    "scrolled": true
   },
   "outputs": [
    {
     "name": "stdout",
     "output_type": "stream",
     "text": [
      "              NoDur     Durbl     Manuf     Enrgy     HiTec     Telcm  \\\n",
      "intercept  0.369443 -0.415599  0.159771  0.501719 -0.064020  0.194691   \n",
      "slope      0.652647  1.648536  1.169846  0.969850  1.132969  0.900729   \n",
      "\n",
      "              Shops      Hlth     Utils     Other  \n",
      "intercept  0.275492  0.237841  0.444585 -0.387135  \n",
      "slope      0.826492  0.673036  0.538086  1.207309  \n"
     ]
    }
   ],
   "source": [
    "#regress monthly excess return of 10 industry on market return\n",
    "alpha=[]  #intercept\n",
    "beta=[]   #slope\n",
    "for i in range(10):\n",
    "    x=np.array(data2.iloc[:,0]-data2.iloc[:,1]).reshape((-1,1))  #x=rm-rf\n",
    "    y=np.array(data.iloc[:,i]-data2.iloc[:,1])  #y=ri-rf\n",
    "    model1=LinearRegression().fit(x,y)\n",
    "    alpha.append(model1.intercept_)\n",
    "    beta.append(model1.coef_[0]) \n",
    "\n",
    "coefficient_table=pd.DataFrame([alpha,beta],index=['intercept','slope'],columns=data.columns)\n",
    "print(coefficient_table)"
   ]
  },
  {
   "cell_type": "markdown",
   "metadata": {},
   "source": [
    "Calculate the mean monthly return for each of the ten industry portfolios, as well as the market portfolio."
   ]
  },
  {
   "cell_type": "code",
   "execution_count": 6,
   "metadata": {
    "scrolled": true
   },
   "outputs": [
    {
     "data": {
      "text/plain": [
       "NoDur    0.902833\n",
       "Durbl    0.733333\n",
       "Manuf    1.012833\n",
       "Enrgy    1.231167\n",
       "HiTec    0.766250\n",
       "Telcm    0.881417\n",
       "Shops    0.916333\n",
       "Hlth     0.783833\n",
       "Utils    0.907167\n",
       "Other    0.489083\n",
       "dtype: float64"
      ]
     },
     "execution_count": 6,
     "metadata": {},
     "output_type": "execute_result"
    }
   ],
   "source": [
    "mmr = np.mean(data)\n",
    "mmr"
   ]
  },
  {
   "cell_type": "code",
   "execution_count": 7,
   "metadata": {
    "scrolled": false
   },
   "outputs": [
    {
     "name": "stdout",
     "output_type": "stream",
     "text": [
      "The mean monthly return:NoDur    0.902833\n",
      "Durbl    0.733333\n",
      "Manuf    1.012833\n",
      "Enrgy    1.231167\n",
      "HiTec    0.766250\n",
      "Telcm    0.881417\n",
      "Shops    0.916333\n",
      "Hlth     0.783833\n",
      "Utils    0.907167\n",
      "Other    0.489083\n",
      "dtype: float64\n"
     ]
    }
   ],
   "source": [
    "print(\"The mean monthly return:{}\".format(mmr) )"
   ]
  },
  {
   "cell_type": "code",
   "execution_count": 8,
   "metadata": {
    "scrolled": true
   },
   "outputs": [],
   "source": [
    "mmp = np.mean(data2)"
   ]
  },
  {
   "cell_type": "code",
   "execution_count": 9,
   "metadata": {},
   "outputs": [
    {
     "name": "stdout",
     "output_type": "stream",
     "text": [
      "The mean monthly return for Market    0.748083\n",
      "Rf        0.130000\n",
      "dtype: float64\n"
     ]
    }
   ],
   "source": [
    "print(\"The mean monthly return for {}\".format(mmp) )"
   ]
  },
  {
   "cell_type": "markdown",
   "metadata": {},
   "source": [
    "Regress the mean monthly returns of the ten industry portfolios and the market portfolio on the corresponding β (by construction, the market portfolio has β of one). This will give you the slope and intercept coefficients for the SML. (Warning: the results may be very different from what you would expect!)"
   ]
  },
  {
   "cell_type": "code",
   "execution_count": 10,
   "metadata": {},
   "outputs": [
    {
     "name": "stdout",
     "output_type": "stream",
     "text": [
      "Beta for 10 industries and market: [0.6526473559635407, 1.6485356499666464, 1.1698462964148775, 0.9698499564640051, 1.1329694391423124, 0.9007292509476114, 0.8264924015201591, 0.6730356956329141, 0.5380861001316398, 1.2073094586151099, 1]\n"
     ]
    }
   ],
   "source": [
    "# regress mean returns of 10 industries on betas of 10 industries\n",
    "# to obtain intercept and coefficient of SML\n",
    "\n",
    "beta.append(1)  \n",
    "print(\"Beta for 10 industries and market: {}\".format(beta))  # 11 beta"
   ]
  },
  {
   "cell_type": "code",
   "execution_count": 11,
   "metadata": {},
   "outputs": [],
   "source": [
    "data.loc['mean']=np.mean(data)"
   ]
  },
  {
   "cell_type": "code",
   "execution_count": 12,
   "metadata": {
    "scrolled": false
   },
   "outputs": [
    {
     "data": {
      "text/html": [
       "<div>\n",
       "<style scoped>\n",
       "    .dataframe tbody tr th:only-of-type {\n",
       "        vertical-align: middle;\n",
       "    }\n",
       "\n",
       "    .dataframe tbody tr th {\n",
       "        vertical-align: top;\n",
       "    }\n",
       "\n",
       "    .dataframe thead th {\n",
       "        text-align: right;\n",
       "    }\n",
       "</style>\n",
       "<table border=\"1\" class=\"dataframe\">\n",
       "  <thead>\n",
       "    <tr style=\"text-align: right;\">\n",
       "      <th></th>\n",
       "      <th>NoDur</th>\n",
       "      <th>Durbl</th>\n",
       "      <th>Manuf</th>\n",
       "      <th>Enrgy</th>\n",
       "      <th>HiTec</th>\n",
       "      <th>Telcm</th>\n",
       "      <th>Shops</th>\n",
       "      <th>Hlth</th>\n",
       "      <th>Utils</th>\n",
       "      <th>Other</th>\n",
       "    </tr>\n",
       "    <tr>\n",
       "      <th>Date</th>\n",
       "      <th></th>\n",
       "      <th></th>\n",
       "      <th></th>\n",
       "      <th></th>\n",
       "      <th></th>\n",
       "      <th></th>\n",
       "      <th></th>\n",
       "      <th></th>\n",
       "      <th></th>\n",
       "      <th></th>\n",
       "    </tr>\n",
       "  </thead>\n",
       "  <tbody>\n",
       "    <tr>\n",
       "      <th>200401</th>\n",
       "      <td>0.060000</td>\n",
       "      <td>-1.070000</td>\n",
       "      <td>-0.620000</td>\n",
       "      <td>0.440000</td>\n",
       "      <td>4.53000</td>\n",
       "      <td>1.410000</td>\n",
       "      <td>0.450000</td>\n",
       "      <td>3.090000</td>\n",
       "      <td>1.920000</td>\n",
       "      <td>2.880000</td>\n",
       "    </tr>\n",
       "    <tr>\n",
       "      <th>200402</th>\n",
       "      <td>4.250000</td>\n",
       "      <td>-0.070000</td>\n",
       "      <td>1.950000</td>\n",
       "      <td>4.690000</td>\n",
       "      <td>-2.92000</td>\n",
       "      <td>-0.520000</td>\n",
       "      <td>6.090000</td>\n",
       "      <td>0.890000</td>\n",
       "      <td>2.070000</td>\n",
       "      <td>2.160000</td>\n",
       "    </tr>\n",
       "    <tr>\n",
       "      <th>200403</th>\n",
       "      <td>-0.090000</td>\n",
       "      <td>-1.150000</td>\n",
       "      <td>-0.270000</td>\n",
       "      <td>-0.130000</td>\n",
       "      <td>-2.55000</td>\n",
       "      <td>-2.070000</td>\n",
       "      <td>0.290000</td>\n",
       "      <td>-3.960000</td>\n",
       "      <td>1.130000</td>\n",
       "      <td>-0.630000</td>\n",
       "    </tr>\n",
       "    <tr>\n",
       "      <th>200404</th>\n",
       "      <td>1.420000</td>\n",
       "      <td>2.300000</td>\n",
       "      <td>-0.170000</td>\n",
       "      <td>2.520000</td>\n",
       "      <td>-4.91000</td>\n",
       "      <td>-0.480000</td>\n",
       "      <td>-2.700000</td>\n",
       "      <td>3.540000</td>\n",
       "      <td>-3.550000</td>\n",
       "      <td>-3.760000</td>\n",
       "    </tr>\n",
       "    <tr>\n",
       "      <th>200405</th>\n",
       "      <td>-1.890000</td>\n",
       "      <td>-1.640000</td>\n",
       "      <td>1.610000</td>\n",
       "      <td>0.390000</td>\n",
       "      <td>4.85000</td>\n",
       "      <td>-2.950000</td>\n",
       "      <td>0.300000</td>\n",
       "      <td>-0.420000</td>\n",
       "      <td>1.280000</td>\n",
       "      <td>1.860000</td>\n",
       "    </tr>\n",
       "    <tr>\n",
       "      <th>...</th>\n",
       "      <td>...</td>\n",
       "      <td>...</td>\n",
       "      <td>...</td>\n",
       "      <td>...</td>\n",
       "      <td>...</td>\n",
       "      <td>...</td>\n",
       "      <td>...</td>\n",
       "      <td>...</td>\n",
       "      <td>...</td>\n",
       "      <td>...</td>\n",
       "    </tr>\n",
       "    <tr>\n",
       "      <th>201309</th>\n",
       "      <td>1.940000</td>\n",
       "      <td>6.460000</td>\n",
       "      <td>5.200000</td>\n",
       "      <td>2.030000</td>\n",
       "      <td>3.77000</td>\n",
       "      <td>4.330000</td>\n",
       "      <td>4.460000</td>\n",
       "      <td>4.190000</td>\n",
       "      <td>1.050000</td>\n",
       "      <td>3.830000</td>\n",
       "    </tr>\n",
       "    <tr>\n",
       "      <th>201310</th>\n",
       "      <td>4.750000</td>\n",
       "      <td>0.720000</td>\n",
       "      <td>4.560000</td>\n",
       "      <td>4.860000</td>\n",
       "      <td>3.80000</td>\n",
       "      <td>5.520000</td>\n",
       "      <td>5.080000</td>\n",
       "      <td>3.470000</td>\n",
       "      <td>3.350000</td>\n",
       "      <td>3.870000</td>\n",
       "    </tr>\n",
       "    <tr>\n",
       "      <th>201311</th>\n",
       "      <td>1.290000</td>\n",
       "      <td>1.810000</td>\n",
       "      <td>2.950000</td>\n",
       "      <td>0.850000</td>\n",
       "      <td>3.65000</td>\n",
       "      <td>0.270000</td>\n",
       "      <td>3.670000</td>\n",
       "      <td>4.540000</td>\n",
       "      <td>-1.810000</td>\n",
       "      <td>4.740000</td>\n",
       "    </tr>\n",
       "    <tr>\n",
       "      <th>201312</th>\n",
       "      <td>2.650000</td>\n",
       "      <td>1.180000</td>\n",
       "      <td>3.130000</td>\n",
       "      <td>2.950000</td>\n",
       "      <td>4.04000</td>\n",
       "      <td>3.960000</td>\n",
       "      <td>0.200000</td>\n",
       "      <td>0.710000</td>\n",
       "      <td>1.790000</td>\n",
       "      <td>3.110000</td>\n",
       "    </tr>\n",
       "    <tr>\n",
       "      <th>mean</th>\n",
       "      <td>0.902833</td>\n",
       "      <td>0.733333</td>\n",
       "      <td>1.012833</td>\n",
       "      <td>1.231167</td>\n",
       "      <td>0.76625</td>\n",
       "      <td>0.881417</td>\n",
       "      <td>0.916333</td>\n",
       "      <td>0.783833</td>\n",
       "      <td>0.907167</td>\n",
       "      <td>0.489083</td>\n",
       "    </tr>\n",
       "  </tbody>\n",
       "</table>\n",
       "<p>121 rows × 10 columns</p>\n",
       "</div>"
      ],
      "text/plain": [
       "           NoDur     Durbl     Manuf     Enrgy    HiTec     Telcm     Shops  \\\n",
       "Date                                                                          \n",
       "200401  0.060000 -1.070000 -0.620000  0.440000  4.53000  1.410000  0.450000   \n",
       "200402  4.250000 -0.070000  1.950000  4.690000 -2.92000 -0.520000  6.090000   \n",
       "200403 -0.090000 -1.150000 -0.270000 -0.130000 -2.55000 -2.070000  0.290000   \n",
       "200404  1.420000  2.300000 -0.170000  2.520000 -4.91000 -0.480000 -2.700000   \n",
       "200405 -1.890000 -1.640000  1.610000  0.390000  4.85000 -2.950000  0.300000   \n",
       "...          ...       ...       ...       ...      ...       ...       ...   \n",
       "201309  1.940000  6.460000  5.200000  2.030000  3.77000  4.330000  4.460000   \n",
       "201310  4.750000  0.720000  4.560000  4.860000  3.80000  5.520000  5.080000   \n",
       "201311  1.290000  1.810000  2.950000  0.850000  3.65000  0.270000  3.670000   \n",
       "201312  2.650000  1.180000  3.130000  2.950000  4.04000  3.960000  0.200000   \n",
       "mean    0.902833  0.733333  1.012833  1.231167  0.76625  0.881417  0.916333   \n",
       "\n",
       "            Hlth     Utils     Other  \n",
       "Date                                  \n",
       "200401  3.090000  1.920000  2.880000  \n",
       "200402  0.890000  2.070000  2.160000  \n",
       "200403 -3.960000  1.130000 -0.630000  \n",
       "200404  3.540000 -3.550000 -3.760000  \n",
       "200405 -0.420000  1.280000  1.860000  \n",
       "...          ...       ...       ...  \n",
       "201309  4.190000  1.050000  3.830000  \n",
       "201310  3.470000  3.350000  3.870000  \n",
       "201311  4.540000 -1.810000  4.740000  \n",
       "201312  0.710000  1.790000  3.110000  \n",
       "mean    0.783833  0.907167  0.489083  \n",
       "\n",
       "[121 rows x 10 columns]"
      ]
     },
     "execution_count": 12,
     "metadata": {},
     "output_type": "execute_result"
    }
   ],
   "source": [
    "data"
   ]
  },
  {
   "cell_type": "code",
   "execution_count": 13,
   "metadata": {},
   "outputs": [],
   "source": [
    "data2.loc['mktmean']=np.mean(data2)"
   ]
  },
  {
   "cell_type": "code",
   "execution_count": 14,
   "metadata": {
    "scrolled": false
   },
   "outputs": [
    {
     "data": {
      "text/html": [
       "<div>\n",
       "<style scoped>\n",
       "    .dataframe tbody tr th:only-of-type {\n",
       "        vertical-align: middle;\n",
       "    }\n",
       "\n",
       "    .dataframe tbody tr th {\n",
       "        vertical-align: top;\n",
       "    }\n",
       "\n",
       "    .dataframe thead th {\n",
       "        text-align: right;\n",
       "    }\n",
       "</style>\n",
       "<table border=\"1\" class=\"dataframe\">\n",
       "  <thead>\n",
       "    <tr style=\"text-align: right;\">\n",
       "      <th></th>\n",
       "      <th>Market</th>\n",
       "      <th>Rf</th>\n",
       "    </tr>\n",
       "    <tr>\n",
       "      <th>Date</th>\n",
       "      <th></th>\n",
       "      <th></th>\n",
       "    </tr>\n",
       "  </thead>\n",
       "  <tbody>\n",
       "    <tr>\n",
       "      <th>200401</th>\n",
       "      <td>2.220000</td>\n",
       "      <td>0.13</td>\n",
       "    </tr>\n",
       "    <tr>\n",
       "      <th>200402</th>\n",
       "      <td>1.460000</td>\n",
       "      <td>0.13</td>\n",
       "    </tr>\n",
       "    <tr>\n",
       "      <th>200403</th>\n",
       "      <td>-1.230000</td>\n",
       "      <td>0.13</td>\n",
       "    </tr>\n",
       "    <tr>\n",
       "      <th>200404</th>\n",
       "      <td>-1.750000</td>\n",
       "      <td>0.13</td>\n",
       "    </tr>\n",
       "    <tr>\n",
       "      <th>200405</th>\n",
       "      <td>1.230000</td>\n",
       "      <td>0.13</td>\n",
       "    </tr>\n",
       "    <tr>\n",
       "      <th>...</th>\n",
       "      <td>...</td>\n",
       "      <td>...</td>\n",
       "    </tr>\n",
       "    <tr>\n",
       "      <th>201309</th>\n",
       "      <td>3.760000</td>\n",
       "      <td>0.13</td>\n",
       "    </tr>\n",
       "    <tr>\n",
       "      <th>201310</th>\n",
       "      <td>4.170000</td>\n",
       "      <td>0.13</td>\n",
       "    </tr>\n",
       "    <tr>\n",
       "      <th>201311</th>\n",
       "      <td>3.120000</td>\n",
       "      <td>0.13</td>\n",
       "    </tr>\n",
       "    <tr>\n",
       "      <th>201312</th>\n",
       "      <td>2.810000</td>\n",
       "      <td>0.13</td>\n",
       "    </tr>\n",
       "    <tr>\n",
       "      <th>mktmean</th>\n",
       "      <td>0.748083</td>\n",
       "      <td>0.13</td>\n",
       "    </tr>\n",
       "  </tbody>\n",
       "</table>\n",
       "<p>121 rows × 2 columns</p>\n",
       "</div>"
      ],
      "text/plain": [
       "           Market    Rf\n",
       "Date                   \n",
       "200401   2.220000  0.13\n",
       "200402   1.460000  0.13\n",
       "200403  -1.230000  0.13\n",
       "200404  -1.750000  0.13\n",
       "200405   1.230000  0.13\n",
       "...           ...   ...\n",
       "201309   3.760000  0.13\n",
       "201310   4.170000  0.13\n",
       "201311   3.120000  0.13\n",
       "201312   2.810000  0.13\n",
       "mktmean  0.748083  0.13\n",
       "\n",
       "[121 rows x 2 columns]"
      ]
     },
     "execution_count": 14,
     "metadata": {},
     "output_type": "execute_result"
    }
   ],
   "source": [
    "data2"
   ]
  },
  {
   "cell_type": "code",
   "execution_count": 15,
   "metadata": {},
   "outputs": [
    {
     "name": "stdout",
     "output_type": "stream",
     "text": [
      "The mean monthly return:NoDur      0.902833\n",
      "Durbl      0.733333\n",
      "Manuf      1.012833\n",
      "Enrgy      1.231167\n",
      "HiTec      0.766250\n",
      "Telcm      0.881417\n",
      "Shops      0.916333\n",
      "Hlth       0.783833\n",
      "Utils      0.907167\n",
      "Other      0.489083\n",
      "mktmean    0.748083\n",
      "Name: mean, dtype: float64\n"
     ]
    }
   ],
   "source": [
    "return_SML=data.loc['mean']\n",
    "return_SML['mktmean']=data2.iloc[-1,0]\n",
    "print('The mean monthly return:{}'.format(return_SML))  # 11 return"
   ]
  },
  {
   "cell_type": "code",
   "execution_count": 16,
   "metadata": {},
   "outputs": [
    {
     "name": "stdout",
     "output_type": "stream",
     "text": [
      "1.032768368265706 -0.18546745836573286\n"
     ]
    }
   ],
   "source": [
    "for j in range(11):\n",
    "    x2=np.array(beta).reshape((-1,1))  #beta\n",
    "    y2=np.array(return_SML)  # mean of 10 industries respectively\n",
    "    model2=LinearRegression().fit(x2,y2)\n",
    "print(model2.intercept_, model2.coef_[0])"
   ]
  },
  {
   "cell_type": "code",
   "execution_count": 17,
   "metadata": {
    "scrolled": true
   },
   "outputs": [
    {
     "data": {
      "text/plain": [
       "1.032768368265706"
      ]
     },
     "execution_count": 17,
     "metadata": {},
     "output_type": "execute_result"
    }
   ],
   "source": [
    "model2.intercept_"
   ]
  },
  {
   "cell_type": "code",
   "execution_count": 18,
   "metadata": {
    "scrolled": true
   },
   "outputs": [
    {
     "data": {
      "text/plain": [
       "-0.18546745836573286"
      ]
     },
     "execution_count": 18,
     "metadata": {},
     "output_type": "execute_result"
    }
   ],
   "source": [
    "model2.coef_[0]"
   ]
  },
  {
   "cell_type": "markdown",
   "metadata": {},
   "source": [
    "Using the estimated slope and intercept coefficients, plot the SML in the range of β from zero to two on the horizontal axis. Also plot the positions of the ten industry portfolios and the market portfolio."
   ]
  },
  {
   "cell_type": "code",
   "execution_count": 19,
   "metadata": {},
   "outputs": [
    {
     "data": {
      "image/png": "[encoded data removed]",
      "text/plain": [
       "<Figure size 576x720 with 1 Axes>"
      ]
     },
     "metadata": {
      "needs_background": "light"
     },
     "output_type": "display_data"
    }
   ],
   "source": [
    "#plot SML & mean returns of 10 industries\n",
    "fig,ax=plt.subplots(figsize=(8,10))\n",
    "x_axis=np.linspace(0,2,100)\n",
    "y_axis=model2.intercept_+model2.coef_[0]*x_axis # y = c+ ax\n",
    "plt.plot(x_axis,y_axis,label = 'Security Market Line(SML)')\n",
    "plt.scatter(beta,return_SML,label='The mean monthly returns of the ten industry portfolios and the market portfolio')\n",
    "plt.title('Security Market Line (Linear Factor Models)')\n",
    "plt.xlabel('Beta(β)')\n",
    "plt.ylabel('Return(%)')\n",
    "plt.xlim((0, 2.1))\n",
    "plt.legend()\n",
    "plt.show()"
   ]
  },
  {
   "cell_type": "markdown",
   "metadata": {},
   "source": [
    "Economic significance:\n",
    "\n",
    "Intercept coefficient from market model regression represents CAPM pricing error.\n",
    "\n",
    "Slope coefficient from market model regression represents amount of exposure to market risk.\n",
    "\n",
    "According to CAPM, all appropriately-priced assets should lie on SML. Assets that lie above SML are underpriced, while assets that lie below SML are overpriced."
   ]
  },
  {
   "cell_type": "code",
   "execution_count": null,
   "metadata": {},
   "outputs": [],
   "source": []
  }
 ],
 "metadata": {
  "kernelspec": {
   "display_name": "Python 3",
   "language": "python",
   "name": "python3"
  },
  "language_info": {
   "codemirror_mode": {
    "name": "ipython",
    "version": 3
   },
   "file_extension": ".py",
   "mimetype": "text/x-python",
   "name": "python",
   "nbconvert_exporter": "python",
   "pygments_lexer": "ipython3",
   "version": "3.8.5"
  }
 },
 "nbformat": 4,
 "nbformat_minor": 2
}
